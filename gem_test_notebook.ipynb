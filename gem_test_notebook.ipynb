{
 "cells": [
  {
   "cell_type": "code",
   "execution_count": 1,
   "metadata": {},
   "outputs": [
    {
     "name": "stderr",
     "output_type": "stream",
     "text": [
      "/Users/yasinsalimibeni/mambaforge/envs/browser/lib/python3.11/site-packages/tqdm/auto.py:21: TqdmWarning: IProgress not found. Please update jupyter and ipywidgets. See https://ipywidgets.readthedocs.io/en/stable/user_install.html\n",
      "  from .autonotebook import tqdm as notebook_tqdm\n"
     ]
    },
    {
     "data": {
      "text/plain": [
       "True"
      ]
     },
     "execution_count": 1,
     "metadata": {},
     "output_type": "execute_result"
    }
   ],
   "source": [
    "\"\"\"\n",
    "Install an additional SDK for JSON schema support Google AI Python SDK\n",
    "\n",
    "$ pip install google.ai.generativelanguage\n",
    "\"\"\"\n",
    "\n",
    "import os\n",
    "import json\n",
    "import google.generativeai as genai\n",
    "from google.ai.generativelanguage_v1beta.types import content\n",
    "\n",
    "from dotenv import load_dotenv, find_dotenv\n",
    "load_dotenv(find_dotenv())\n"
   ]
  },
  {
   "cell_type": "code",
   "execution_count": 2,
   "metadata": {},
   "outputs": [
    {
     "name": "stdout",
     "output_type": "stream",
     "text": [
      "Uploaded file 'image.png' as: https://generativelanguage.googleapis.com/v1beta/files/meuazhvz6x5z\n"
     ]
    }
   ],
   "source": [
    "\n",
    "genai.configure(api_key=os.environ[\"GEMINI_API_KEY\"])\n",
    "\n",
    "image_path = os.environ[\"IMAGE_PATH\"]\n",
    "\n",
    "\n",
    "def upload_to_gemini(path, mime_type=None):\n",
    "    \"\"\"Uploads the given file to Gemini.\n",
    "\n",
    "    See https://ai.google.dev/gemini-api/docs/prompting_with_media\n",
    "    \"\"\"\n",
    "    file = genai.upload_file(path, mime_type=mime_type)\n",
    "    print(f\"Uploaded file '{file.display_name}' as: {file.uri}\")\n",
    "    return file\n",
    "\n",
    "\n",
    "# Create the model\n",
    "generation_config = {\n",
    "    \"temperature\": 0.1,\n",
    "    \"top_p\": 0.95,\n",
    "    \"top_k\": 40,\n",
    "    \"max_output_tokens\": 8192,\n",
    "    \"response_schema\": content.Schema(\n",
    "        type=content.Type.ARRAY,\n",
    "        items=content.Schema(\n",
    "            type=content.Type.OBJECT,\n",
    "            enum=[],\n",
    "            required=[\"title\", \"color\", \"coords\"],\n",
    "            properties={\n",
    "                \"title\": content.Schema(\n",
    "                    type=content.Type.STRING,\n",
    "                    description=\"Popular name of the pepper plant.\",\n",
    "                ),\n",
    "                \"color\": content.Schema(\n",
    "                    type=content.Type.STRING,\n",
    "                    description=\"A color name propr for the annotation box.\",\n",
    "                ),\n",
    "                \"coords\": content.Schema(\n",
    "                    type=content.Type.ARRAY,\n",
    "                    description=\"A list of 4 integers to locate the 4 corners [y1, x1, y2, x2].\",\n",
    "                    items=content.Schema(type=content.Type.INTEGER),\n",
    "                ),\n",
    "            },\n",
    "        ),\n",
    "    ),\n",
    "    \"response_mime_type\": \"application/json\",\n",
    "}\n",
    "\n",
    "model = genai.GenerativeModel(\n",
    "    model_name=\"gemini-1.5-flash\",\n",
    "    generation_config=generation_config,\n",
    "    system_instruction=\"\"\"\n",
    "Given the image you will receive, return bounding boxes as a JSON array,\n",
    "  return the typical name of the pepper, such as bell pepper, jalapeno, etc.\n",
    "  and the color of the pepper, such as red, green, yellow, etc.\n",
    "  \"\"\",\n",
    ")\n",
    "\n",
    "# TODO Make these files available on the local file system\n",
    "# You may need to update the file paths\n",
    "files = [\n",
    "    upload_to_gemini(image_path, mime_type=\"image/png\"),\n",
    "]\n",
    "\n",
    "chat_session = model.start_chat(\n",
    "    history=[\n",
    "        {\n",
    "            \"role\": \"user\",\n",
    "            \"parts\": [\n",
    "                files[0],\n",
    "            ],\n",
    "        },\n",
    "    ]\n",
    ")\n",
    "\n",
    "response = chat_session.send_message(\n",
    "    \"Return bounding boxes as a JSON array, tagging peppers by their name and colour suggestion.\"\n",
    ")\n",
    "text_dict = json.loads(response.parts[0].text)\n",
    "\n",
    "with open(\"output.json\", \"w\") as f:\n",
    "    f.write(json.dumps(text_dict, indent=2))"
   ]
  },
  {
   "cell_type": "code",
   "execution_count": null,
   "metadata": {},
   "outputs": [],
   "source": []
  },
  {
   "cell_type": "code",
   "execution_count": null,
   "metadata": {},
   "outputs": [],
   "source": []
  },
  {
   "cell_type": "code",
   "execution_count": null,
   "metadata": {},
   "outputs": [],
   "source": []
  }
 ],
 "metadata": {
  "kernelspec": {
   "display_name": "browser",
   "language": "python",
   "name": "python3"
  },
  "language_info": {
   "codemirror_mode": {
    "name": "ipython",
    "version": 3
   },
   "file_extension": ".py",
   "mimetype": "text/x-python",
   "name": "python",
   "nbconvert_exporter": "python",
   "pygments_lexer": "ipython3",
   "version": "3.11.11"
  }
 },
 "nbformat": 4,
 "nbformat_minor": 2
}
